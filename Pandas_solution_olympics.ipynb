{
 "cells": [
  {
   "cell_type": "code",
   "execution_count": 2,
   "id": "4f75051e",
   "metadata": {},
   "outputs": [],
   "source": [
    "import pandas as pd\n",
    "import matplotlib.pyplot as plt\n",
    "%matplotlib inline\n",
    "import seaborn as sns"
   ]
  },
  {
   "cell_type": "code",
   "execution_count": null,
   "id": "1c7a01a4",
   "metadata": {},
   "outputs": [],
   "source": []
  },
  {
   "cell_type": "code",
   "execution_count": null,
   "id": "9eab20e2",
   "metadata": {},
   "outputs": [],
   "source": [
    "#Ch2 - \n",
    "\n",
    "#list the olympics dataframe. \n",
    "#list only the NOC column using [] and. notation and object type. \n",
    "#List Edition, City, Athlete,Medal columns and object type."
   ]
  },
  {
   "cell_type": "code",
   "execution_count": 10,
   "id": "3bf9637e",
   "metadata": {},
   "outputs": [
    {
     "data": {
      "text/plain": [
       "pandas.core.frame.DataFrame"
      ]
     },
     "execution_count": 10,
     "metadata": {},
     "output_type": "execute_result"
    }
   ],
   "source": [
    "oo = pd.read_csv('../data/olympics.csv',skiprows=4)\n",
    "oo\n",
    "#---\n",
    "oo['NOC']\n",
    "oo.NOC \n",
    "#---\n",
    "type(oo.NOC)\n",
    "type(oo[['Edition','City','Athlete','Medal']])"
   ]
  },
  {
   "cell_type": "code",
   "execution_count": 1,
   "id": "79c7b1e9",
   "metadata": {},
   "outputs": [],
   "source": [
    "#Ch4 - \n",
    "\n",
    "#In which events did Jesse Owens win a medal? \n",
    "\n",
    "#Which country has won the most men's gold medals in singles badminton over the years? \n",
    "#Sort the results alphabetically by the player's names.\n",
    "\n",
    "#Which three countries have won the most medals in recent years (from 1984 to 2008)?\n",
    "\n",
    "#Display the male gold medal winners for the 100m Track & Field sprint event over the years. \n",
    "#List the results starting with the most recent. Show the Olympic City, Edition, Athlete and \n",
    "#the country they represent."
   ]
  },
  {
   "cell_type": "code",
   "execution_count": null,
   "id": "79f565ec",
   "metadata": {},
   "outputs": [],
   "source": [
    "jo = oo[oo.Athlete == 'OWENS, Jesse']\n",
    "jo.Event.value_counts()\n",
    "#----\n",
    "gbm = oo[(oo.Medal == 'Gold') & (oo.Gender == 'Men') & (oo.Sport == 'Badminton')]\n",
    "gbm.sort_values(by='Athlete')\n",
    "#----\n",
    "rec = oo[oo.Edition >= 1984]\n",
    "rec.NOC.value_counts().head(3)\n",
    "#---\n",
    "gmh = oo[(oo.Gender == 'Men') & (oo.Medal == 'Gold') & (oo.Event == '100m')]\n",
    "gmh.sort_values('Edition',ascending=False)[['City','Edition','Athlete','NOC']]\n"
   ]
  },
  {
   "cell_type": "code",
   "execution_count": null,
   "id": "f1605645",
   "metadata": {},
   "outputs": [],
   "source": [
    "#Ch05 -\n",
    "#Plot the number of medals achieved by the Chinese team (men and women) in Beijing 2008 using:\n",
    "#matplotlib & Seaborn\n",
    "\n",
    "#How can you use colormaps to give the data more meaning?\n",
    "\n",
    "#Plot the number of Gold, Silver and Bronze medals for each gender.\n",
    "\n",
    "#How can you give the data more meaning? Is there anything else you can change to make it more intuitive?\n",
    "\n"
   ]
  },
  {
   "cell_type": "code",
   "execution_count": null,
   "id": "c0c49836",
   "metadata": {},
   "outputs": [],
   "source": [
    "mw = oo[(oo.Edition == 2008) & (oo.NOC == 'CHN')]\n",
    "mw.Gender.value_counts().plot(kind='bar');\n",
    "sns.countplot(data=oo, x='Gender')\n",
    "#----\n",
    "sns.countplot(data=oo, x='Gender',palette='bwr');\n",
    "#----\n",
    "sns.countplot(x='Medal',data=mw, hue='Gender');\n",
    "#---\n",
    "sns.countplot(x='Medal',data=mw, hue='Gender',palette='bwr',order=['Gold','Silver','Bronze']);\n"
   ]
  },
  {
   "cell_type": "code",
   "execution_count": null,
   "id": "21c14574",
   "metadata": {},
   "outputs": [],
   "source": [
    "#Ch06 -\n",
    "#Plot the total number of medals awarded at each of the Olympic games throughout history.\n",
    "\n",
    "#Which countries did not win a medal in the 2008 Olympics? How many countries were there?"
   ]
  },
  {
   "cell_type": "code",
   "execution_count": null,
   "id": "7c18be54",
   "metadata": {},
   "outputs": [],
   "source": [
    "oo.Edition.value_counts().sort_index().plot()\n",
    "#---\n",
    "lo = oo[oo.Edition == 2008]\n",
    "noc = pd.read_csv('../data/som.csv')\n",
    "noc[noc['Country'] != noc['Country.1']] #check if the columns cuontry and country1 are different.\n",
    "noc.set_index('Int Olympic Committee code',inplace=True)\n",
    "noc.head()\n",
    "medal_2008 = lo.NOC.value_counts()\n",
    "medal_2008\n",
    "noc['medal_2008'] = medal_2008\n",
    "noc.head()\n",
    "noc[noc.medal_2008.isnull()]"
   ]
  },
  {
   "cell_type": "code",
   "execution_count": null,
   "id": "e700fc26",
   "metadata": {},
   "outputs": [],
   "source": [
    "#Ch07 -\n",
    "#Using groupby(), plot the total number of medals awarded at each of the Olympic games throughout history.\n",
    "\n",
    "#Create a list showing the total number of medals won for each country over the history of the Olympics. \n",
    "#For each country, include the year of the first and most recent Olympic medal wins."
   ]
  },
  {
   "cell_type": "code",
   "execution_count": null,
   "id": "8d807679",
   "metadata": {},
   "outputs": [],
   "source": [
    "oo.groupby('Edition').size().plot();\n",
    "#---\n",
    "oo.groupby('NOC').agg({'Edition' : ['count','min','max']})"
   ]
  },
  {
   "cell_type": "code",
   "execution_count": null,
   "id": "c3d6550f",
   "metadata": {},
   "outputs": [],
   "source": [
    "#Ch08 -\n",
    "#Plot the number of gold medals won by the USA male and female athletes throughout the history of the Olympics?\n",
    "\n",
    "#Plot the 5 athletes who have won the most gold medals over the history of the Olympics. When there is a tie, \n",
    "#consider the number of silver medals, then bronze medals."
   ]
  },
  {
   "cell_type": "code",
   "execution_count": null,
   "id": "49423768",
   "metadata": {},
   "outputs": [],
   "source": [
    "gu = oo[(oo.NOC == 'USA') & (oo.Medal == 'Gold')]\n",
    "gu.groupby(['Edition','Gender']).size().unstack('Gender',fill_value=0).plot()\n",
    "#---\n",
    "g = oo.groupby(['Athlete','Medal']).size().unstack('Medal',fill_value=0)\n",
    "g.sort_values(['Gold','Silver','Bronze'],ascending=False)[['Gold','Silver','Bronze']].head().plot(kind='bar')"
   ]
  },
  {
   "cell_type": "code",
   "execution_count": null,
   "id": "da1ef32a",
   "metadata": {},
   "outputs": [],
   "source": [
    "#Ch09 -\n",
    "#Using the Olympic dataset, present a summary of the total medals won by participating countries in the 2008 \n",
    "#Olympics.\n",
    "\n",
    "#Creating your own colormap"
   ]
  },
  {
   "cell_type": "code",
   "execution_count": null,
   "id": "4a5f5bd8",
   "metadata": {},
   "outputs": [],
   "source": [
    "lo = oo[oo.Edition == 2008]\n",
    "g = lo.groupby(['NOC','Medal']).size().unstack('Medal',fill_value=0)\n",
    "g = g.sort_values(['Gold','Silver','Bronze'],ascending=False)[['Gold','Silver','Bronze']]\n",
    "g\n",
    "sns.heatmap(g)\n",
    "g = g.transpose()\n",
    "g\n",
    "plt.figure(figsize=(16,5))\n",
    "sns.heatmap(g)\n",
    "#---\n",
    "#Display data in bar chart with default colors:\n",
    "g = oo.groupby(['Athlete','Medal']).size().unstack('Medal',fill_value=0)\n",
    "g.sort_values(['Gold','Silver','Bronze'],ascending=False)[['Gold','Silver','Bronze']].head().plot(kind='bar')\n",
    "#create custom colors :\n",
    "from matplotlib.colors import ListedColormap\n",
    "sns.color_palette()\n",
    "sns.palplot(sns.color_palette())\n",
    "gsb = ['#dbb40c','#c5c9c7','#a87900'] #create custom colors - gold,silver,bronze to represent medals.\n",
    "sns.palplot(sns.color_palette(gsb))\n",
    "my_gsb = ListedColormap(sns.color_palette(gsb))\n",
    "\n",
    "g = oo.groupby(['Athlete','Medal']).size().unstack('Medal',fill_value=0)\n",
    "g = g.sort_values(['Gold','Silver','Bronze'],ascending=False)[['Gold','Silver','Bronze']].head()\n",
    "g.plot(kind='bar',colormap=my_gsb);"
   ]
  },
  {
   "cell_type": "code",
   "execution_count": null,
   "id": "4abeec01",
   "metadata": {},
   "outputs": [],
   "source": [
    "#Ch10-\n",
    "#In every Olympics, which US athlete has won the most total number of medals? Include the athlete's discipline."
   ]
  },
  {
   "cell_type": "code",
   "execution_count": null,
   "id": "b14fa78c",
   "metadata": {},
   "outputs": [],
   "source": [
    "gy  = oo[oo.NOC == 'USA']\n",
    "gy = gy.groupby(['Edition','Athlete','Medal']).size().unstack('Medal',fill_value=0)\n",
    "gy['Total'] = gy['Gold'] + gy['Silver'] + gy['Bronze']\n",
    "gy.reset_index(inplace=True)\n",
    "#for every year(edition), take the top entry(which is the row with the highest Total)\n",
    "tu = [group.sort_values('Total',ascending=False)[:1] for year,group in gy.groupby('Edition')]\n",
    "tu\n",
    "\n",
    "top = pd.DataFrame() #create a new dataframe\n",
    "for i in tu:\n",
    "    top = top.append(i)\n",
    "top"
   ]
  }
 ],
 "metadata": {
  "kernelspec": {
   "display_name": "Python 3",
   "language": "python",
   "name": "python3"
  },
  "language_info": {
   "codemirror_mode": {
    "name": "ipython",
    "version": 3
   },
   "file_extension": ".py",
   "mimetype": "text/x-python",
   "name": "python",
   "nbconvert_exporter": "python",
   "pygments_lexer": "ipython3",
   "version": "3.9.4"
  }
 },
 "nbformat": 4,
 "nbformat_minor": 5
}
